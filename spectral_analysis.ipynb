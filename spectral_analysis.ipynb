{
 "cells": [
  {
   "cell_type": "markdown",
   "id": "8f8210d0-6e7d-4003-be58-6988e0a21581",
   "metadata": {},
   "source": [
    "## Load modules and functions"
   ]
  },
  {
   "cell_type": "code",
   "execution_count": 1,
   "id": "6b247e55-33d5-44b1-b78c-edcc4ccdc784",
   "metadata": {},
   "outputs": [],
   "source": [
    "import obspy\n",
    "import numpy as np\n",
    "from scipy.optimize import minimize\n",
    "from obspy import UTCDateTime\n",
    "import matplotlib.pyplot as plt\n",
    "from obspy import read, read_inventory\n",
    "from scipy.optimize import minimize, differential_evolution\n",
    "\n",
    "\n",
    "# Find decimation steps\n",
    "def find_min_factors(A, B):\n",
    "    if A < B or B == 0:\n",
    "        return None  # Cannot reduce A to a smaller B using division\n",
    "    queue = [(A, [])]  # (current value, list of factors used)\n",
    "    while queue:\n",
    "        current, factors = queue.pop(0)\n",
    "        if current == B:\n",
    "            return factors  # Found the optimal sequence\n",
    "        for f in range(2, 11):  # Factors from 2 to 10\n",
    "            if current % f == 0:  # Ensure divisibility\n",
    "                queue.append((current // f, factors + [f]))\n",
    "    return None  # If no solution is found\n",
    "\n",
    "# Decimate trace\n",
    "def decimate_to_target(trace, target_sampling_rate):\n",
    "    factors = find_min_factors(int(trace.stats.sampling_rate), int(target_sampling_rate))\n",
    "    if factors is None:\n",
    "        raise ValueError(\"Cannot decimate to the target sampling rate using factors from 2 to 10.\")\n",
    "    for factor in factors:\n",
    "        trace.decimate(factor, no_filter=True)  # no_filter=True prevents distortion\n",
    "        trace.detrend(type = 'demean'); trace.detrend(type = 'linear')\n",
    "    return trace\n",
    "\n",
    "# Spectra calculation\n",
    "def SpectraCalc(tr,freqmin,freqmax):\n",
    "    n = len(tr)\n",
    "    f = np.fft.fftfreq(n, tr.stats.delta)\n",
    "    magnitude = np.abs(np.fft.fft(tr.data))\n",
    "    mask = (f >= freqmin) & (f <= freqmax) \n",
    "    f = f[mask]; magnitude = magnitude[mask];\n",
    "    return magnitude, f\n",
    "\n",
    "# Brune Source model and cost function\n",
    "def BruneSource(X, F, tt):\n",
    "    Wo, Fc, Q = X\n",
    "    W = Wo * np.exp(-np.pi * F * tt / Q) / (1 + (F / Fc)**2)\n",
    "    return W\n",
    "\n",
    "def BoatwrightSource(X, F, tt):\n",
    "    Wo, Fc, Q = X\n",
    "    W = Wo * np.exp(-np.pi * F * tt / Q) / ((1 + (F / Fc)**4)**0.5)\n",
    "    return W\n",
    "\n",
    "def CostFunction(X, SD, F, tt, model):\n",
    "    if model == 1:\n",
    "        fmod = BruneSource(X, F, tt)\n",
    "    else:\n",
    "        fmod = BoatwrightSource(X, F, tt)\n",
    "    SDlog = np.log10(SD)\n",
    "    fmodLog = np.log10(fmod)\n",
    "    residuals = SDlog - fmodLog\n",
    "    cost = np.mean(residuals**2)\n",
    "    return cost\n",
    "\n",
    "# Use global optimization (differential evolution) for better results\n",
    "def optimize_parameters(SD, F, tt, model, bounds):\n",
    "    result = differential_evolution(CostFunction, bounds=bounds, args=(SD, F, tt, model))\n",
    "    return result.x"
   ]
  },
  {
   "cell_type": "markdown",
   "id": "dd51680f-44de-4a05-909a-0264306998be",
   "metadata": {},
   "source": [
    "## Inputs"
   ]
  },
  {
   "cell_type": "code",
   "execution_count": 2,
   "id": "5c4c4e3e-85be-4f68-bbfc-abfcd141c5b9",
   "metadata": {},
   "outputs": [],
   "source": [
    "# Data\n",
    "dataFile = \"TEST.m\"\n",
    "\n",
    "# Instrument response\n",
    "instResponse = \"dataless.seed\"\n",
    "rm_Resp = 1 # Remove response? 1 = YES, else = NO.\n",
    "pre_filt = [0.001, 0.005, 45, 50] # Pre-filter values\n",
    "\n",
    "# Brune or Boatwright\n",
    "brune = 0 # 1 = Brune, else = Boatwright\n",
    "##### You must also set bounds for optimization (lb, ub). These can be found in the code below.\n",
    "\n",
    "# Set freq range of interest for models\n",
    "freqmin = 0.005\n",
    "freqmax = 1\n",
    "target_sampleFreq = 25\n",
    "\n",
    "# Noise and signal start and end times\n",
    "signalStart = UTCDateTime('2020-10-19T21:06:00')\n",
    "signalEnd = UTCDateTime('2020-10-19T21:07:00')\n",
    "noiseStart = UTCDateTime('2020-10-19T21:01:00')\n",
    "noiseEnd = UTCDateTime('2020-10-19T21:02:00')\n",
    "\n",
    "# Set Vp, rho, and distance for magnitude calculation\n",
    "radiation_pattern_correction = 0.44\n",
    "rho = 2800\n",
    "vp = 6000\n",
    "D = 71*111*1000"
   ]
  },
  {
   "cell_type": "markdown",
   "id": "5452d70a-8ca6-4c21-82ff-5c51946b517f",
   "metadata": {},
   "source": [
    "## Data pre-processing"
   ]
  },
  {
   "cell_type": "code",
   "execution_count": 3,
   "id": "19479f29-b5e1-450a-922c-3740fa74652d",
   "metadata": {},
   "outputs": [],
   "source": [
    "# Read and trim data\n",
    "st = obspy.read(dataFile)\n",
    "inv = read_inventory(instResponse)\n",
    "\n",
    "# Signal\n",
    "tr = st[0].copy()\n",
    "tr.trim(starttime = signalStart,endtime = signalEnd)\n",
    "tr.detrend(type = 'demean')\n",
    "tr.detrend(type = 'linear')\n",
    "tr.taper(0.1)\n",
    "if rm_Resp == 1:\n",
    "    tr.remove_response(inventory=inv, pre_filt=pre_filt, output=\"DISP\")\n",
    "tr = decimate_to_target(tr,target_sampleFreq)\n",
    "tr.taper(0.1)\n",
    "\n",
    "# Noise\n",
    "trNoise = st[0].copy()\n",
    "trNoise.trim(starttime = noiseStart,endtime = noiseEnd)\n",
    "trNoise.detrend(type = 'demean')\n",
    "trNoise.detrend(type = 'linear')\n",
    "trNoise.taper(0.1)\n",
    "if rm_Resp == 1:\n",
    "    trNoise.remove_response(inventory=inv, pre_filt=pre_filt, output=\"DISP\")\n",
    "trNoise = decimate_to_target(trNoise,target_sampleFreq)\n",
    "trNoise.taper(0.1)\n",
    "tt = trNoise.stats.sampling_rate"
   ]
  },
  {
   "cell_type": "markdown",
   "id": "71d6ddfe-6f1a-43a9-ac59-122894a506a9",
   "metadata": {},
   "source": [
    "## Spectral analysis"
   ]
  },
  {
   "cell_type": "code",
   "execution_count": 4,
   "id": "7b81cb48-10eb-45dc-b3fe-cf740d73f1d8",
   "metadata": {},
   "outputs": [
    {
     "name": "stderr",
     "output_type": "stream",
     "text": [
      "C:\\Users\\tober\\AppData\\Local\\Temp\\ipykernel_24156\\3355916145.py:60: RuntimeWarning: divide by zero encountered in log10\n",
      "  fmodLog = np.log10(fmod)\n",
      "C:\\Users\\tober\\anaconda3\\envs\\py39\\lib\\site-packages\\scipy\\optimize\\_numdiff.py:590: RuntimeWarning: invalid value encountered in subtract\n",
      "  df = fun(x) - f0\n"
     ]
    },
    {
     "data": {
      "image/png": "[encoded data removed]",
      "text/plain": [
       "<Figure size 640x480 with 1 Axes>"
      ]
     },
     "metadata": {},
     "output_type": "display_data"
    },
    {
     "name": "stdout",
     "output_type": "stream",
     "text": [
      "Boatwright Source Model:\n",
      "Best-fit parameters (Wo, Fc, Q): [1.05417422e-02 1.23063825e-01 8.33922165e+01]\n",
      "Magnitude = 8.75\n"
     ]
    }
   ],
   "source": [
    "# Calculate spectra\n",
    "[Signal,f] = SpectraCalc(tr,freqmin,freqmax) # Spectra calculation\n",
    "[Noise,fn] = SpectraCalc(trNoise,freqmin,freqmax)\n",
    "Magnitude = Signal - Noise\n",
    "if not np.array_equal(fn, f):  # Checks if X and Y arrays are identical\n",
    "    raise ValueError(\"Frequnies of signal and noise are not identical!\")\n",
    "    \n",
    "## Fit model\n",
    "# Set upper and lower bounds for the parameters [Wo, Fc, Q]\n",
    "lb = [0, 0, 0]  # Lower bounds\n",
    "ub = [max(Magnitude), 1, 500]  # Upper bounds\n",
    "bounds = [(lb[i], ub[i]) for i in range(len(lb))]\n",
    "# Run optimization\n",
    "best_fit_parameters = optimize_parameters(Magnitude, f, tt, brune, bounds)\n",
    "\n",
    "# Plot results\n",
    "if brune == 1:\n",
    "    fmod = BruneSource(best_fit_parameters, f, tt)\n",
    "else:\n",
    "    fmod = BoatwrightSource(best_fit_parameters, f, tt)\n",
    "plt.loglog(f, Magnitude, 'ko', label='Observed')\n",
    "plt.loglog(f, fmod, label='Model Fit')\n",
    "plt.legend()\n",
    "plt.show()\n",
    "if brune == 1:\n",
    "    print(\"Brune Source Model:\")\n",
    "else:\n",
    "    print(\"Boatwright Source Model:\")\n",
    "print(\"Best-fit parameters (Wo, Fc, Q):\", best_fit_parameters)\n",
    "Wo = best_fit_parameters[1]\n",
    "Mo = 4*np.pi*rho*(vp**3)*D*Wo/radiation_pattern_correction;\n",
    "Mw = (2/3)*(np.log10(Mo) - 9.1);\n",
    "Fc = best_fit_parameters[2]\n",
    "print('Magnitude = {:.2f}'.format(Mw))"
   ]
  },
  {
   "cell_type": "code",
   "execution_count": null,
   "id": "c31bbb11-7cbc-4e50-a564-775948696126",
   "metadata": {},
   "outputs": [],
   "source": []
  }
 ],
 "metadata": {
  "kernelspec": {
   "display_name": "Python 3 (ipykernel)",
   "language": "python",
   "name": "python3"
  },
  "language_info": {
   "codemirror_mode": {
    "name": "ipython",
    "version": 3
   },
   "file_extension": ".py",
   "mimetype": "text/x-python",
   "name": "python",
   "nbconvert_exporter": "python",
   "pygments_lexer": "ipython3",
   "version": "3.9.20"
  }
 },
 "nbformat": 4,
 "nbformat_minor": 5
}
